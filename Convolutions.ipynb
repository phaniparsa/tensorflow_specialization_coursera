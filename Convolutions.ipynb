{
  "nbformat": 4,
  "nbformat_minor": 0,
  "metadata": {
    "colab": {
      "name": "Convolutions.ipynb",
      "provenance": [],
      "collapsed_sections": [],
      "authorship_tag": "ABX9TyMm85dxONj83yJsF3K313Om",
      "include_colab_link": true
    },
    "kernelspec": {
      "name": "python3",
      "display_name": "Python 3"
    },
    "language_info": {
      "name": "python"
    }
  },
  "cells": [
    {
      "cell_type": "markdown",
      "metadata": {
        "id": "view-in-github",
        "colab_type": "text"
      },
      "source": [
        "<a href=\"https://colab.research.google.com/github/phaniparsa/tensorflow_specialization_coursera/blob/main/Convolutions.ipynb\" target=\"_parent\"><img src=\"https://colab.research.google.com/assets/colab-badge.svg\" alt=\"Open In Colab\"/></a>"
      ]
    },
    {
      "cell_type": "markdown",
      "source": [
        "The idea here is that some convolutions will change the image in such a way that certain features in the image get emphasized.\n",
        "\n",
        "Pooling is a way of compressing an image."
      ],
      "metadata": {
        "id": "I6YEIo61I6M9"
      }
    },
    {
      "cell_type": "code",
      "source": [
        "import tensorflow as tf"
      ],
      "metadata": {
        "id": "xzqFbjF9Pxjs"
      },
      "execution_count": 42,
      "outputs": []
    },
    {
      "cell_type": "code",
      "source": [
        "mnist = tf.keras.datasets.fashion_mnist\n",
        "\n",
        "(train_images, train_labels), (test_images, test_labels) = mnist.load_data()\n",
        "\n",
        "train_images = train_images.reshape(60000, 28, 28, 1)\n",
        "train_imaes = train_images/255.0\n",
        "\n",
        "test_images = test_images.reshape(10000, 28, 28, 1)\n",
        "test_images = test_images/255.0"
      ],
      "metadata": {
        "id": "5iFGNh0cP1J4"
      },
      "execution_count": 43,
      "outputs": []
    },
    {
      "cell_type": "code",
      "source": [
        "class myCallback(tf.keras.callbacks.Callback):\n",
        "  def on_epoch_end(self, epoch, logs={}):\n",
        "    if(logs[\"accuracy\"]>0.998):\n",
        "      print(\"Reached 99.8% accuracy so cancelling training!\")\n",
        "      self.model.stop_training=True"
      ],
      "metadata": {
        "id": "pb6BWk0rXsvb"
      },
      "execution_count": 44,
      "outputs": []
    },
    {
      "cell_type": "code",
      "execution_count": 51,
      "metadata": {
        "id": "XpkN7xmGIiPD"
      },
      "outputs": [],
      "source": [
        "callbacks = myCallback()\n",
        "\n",
        "model = tf.keras.models.Sequential([tf.keras.layers.Conv2D(64, (3, 3), activation=\"relu\", input_shape=(28, 28, 1)),\n",
        "                                    tf.keras.layers.MaxPooling2D(2, 2),\n",
        "                                    tf.keras.layers.Conv2D(32, (3, 3), activation=\"relu\", input_shape=(28, 28, 1)),\n",
        "                                    tf.keras.layers.MaxPooling2D(2, 2),\n",
        "                                    tf.keras.layers.Flatten(),\n",
        "                                    tf.keras.layers.Dense(128, activation=\"relu\"),\n",
        "                                    tf.keras.layers.Dense(10, activation=\"softmax\")])"
      ]
    },
    {
      "cell_type": "code",
      "source": [
        "model.compile(optimizer=\"adam\", loss=\"sparse_categorical_crossentropy\", metrics=[\"accuracy\"])"
      ],
      "metadata": {
        "id": "3x2rLEzxKOZO"
      },
      "execution_count": 52,
      "outputs": []
    },
    {
      "cell_type": "code",
      "source": [
        "model.summary()"
      ],
      "metadata": {
        "colab": {
          "base_uri": "https://localhost:8080/"
        },
        "id": "NV5wSWJmQk3j",
        "outputId": "f2d493d1-a626-47b9-f818-4d8735e080c8"
      },
      "execution_count": 53,
      "outputs": [
        {
          "output_type": "stream",
          "name": "stdout",
          "text": [
            "Model: \"sequential_7\"\n",
            "_________________________________________________________________\n",
            " Layer (type)                Output Shape              Param #   \n",
            "=================================================================\n",
            " conv2d_12 (Conv2D)          (None, 26, 26, 64)        640       \n",
            "                                                                 \n",
            " max_pooling2d_12 (MaxPoolin  (None, 13, 13, 64)       0         \n",
            " g2D)                                                            \n",
            "                                                                 \n",
            " conv2d_13 (Conv2D)          (None, 11, 11, 32)        18464     \n",
            "                                                                 \n",
            " max_pooling2d_13 (MaxPoolin  (None, 5, 5, 32)         0         \n",
            " g2D)                                                            \n",
            "                                                                 \n",
            " flatten_7 (Flatten)         (None, 800)               0         \n",
            "                                                                 \n",
            " dense_14 (Dense)            (None, 128)               102528    \n",
            "                                                                 \n",
            " dense_15 (Dense)            (None, 10)                1290      \n",
            "                                                                 \n",
            "=================================================================\n",
            "Total params: 122,922\n",
            "Trainable params: 122,922\n",
            "Non-trainable params: 0\n",
            "_________________________________________________________________\n"
          ]
        }
      ]
    },
    {
      "cell_type": "code",
      "source": [
        "model.fit(train_images, train_labels, epochs=20, callbacks=[callbacks])"
      ],
      "metadata": {
        "colab": {
          "base_uri": "https://localhost:8080/"
        },
        "id": "gLHVL3ZnQlr5",
        "outputId": "8c1d80bd-9e74-4510-9006-07d5776f7486"
      },
      "execution_count": 54,
      "outputs": [
        {
          "output_type": "stream",
          "name": "stdout",
          "text": [
            "Epoch 1/20\n",
            "1875/1875 [==============================] - 68s 36ms/step - loss: 0.5799 - accuracy: 0.8189\n",
            "Epoch 2/20\n",
            "1875/1875 [==============================] - 67s 36ms/step - loss: 0.3532 - accuracy: 0.8689\n",
            "Epoch 3/20\n",
            "1875/1875 [==============================] - 67s 36ms/step - loss: 0.3089 - accuracy: 0.8842\n",
            "Epoch 4/20\n",
            "1875/1875 [==============================] - 66s 35ms/step - loss: 0.2837 - accuracy: 0.8931\n",
            "Epoch 5/20\n",
            "1875/1875 [==============================] - 66s 35ms/step - loss: 0.2590 - accuracy: 0.9024\n",
            "Epoch 6/20\n",
            "1875/1875 [==============================] - 66s 35ms/step - loss: 0.2414 - accuracy: 0.9087\n",
            "Epoch 7/20\n",
            "1875/1875 [==============================] - 66s 35ms/step - loss: 0.2258 - accuracy: 0.9145\n",
            "Epoch 8/20\n",
            "1875/1875 [==============================] - 66s 35ms/step - loss: 0.2095 - accuracy: 0.9194\n",
            "Epoch 9/20\n",
            "1875/1875 [==============================] - 66s 35ms/step - loss: 0.1996 - accuracy: 0.9238\n",
            "Epoch 10/20\n",
            "1875/1875 [==============================] - 66s 35ms/step - loss: 0.1859 - accuracy: 0.9285\n",
            "Epoch 11/20\n",
            "1875/1875 [==============================] - 66s 35ms/step - loss: 0.1794 - accuracy: 0.9328\n",
            "Epoch 12/20\n",
            "1875/1875 [==============================] - 66s 35ms/step - loss: 0.1662 - accuracy: 0.9364\n",
            "Epoch 13/20\n",
            "1875/1875 [==============================] - 66s 35ms/step - loss: 0.1636 - accuracy: 0.9387\n",
            "Epoch 14/20\n",
            "1875/1875 [==============================] - 66s 35ms/step - loss: 0.1595 - accuracy: 0.9411\n",
            "Epoch 15/20\n",
            "1875/1875 [==============================] - 66s 35ms/step - loss: 0.1488 - accuracy: 0.9436\n",
            "Epoch 16/20\n",
            "1875/1875 [==============================] - 66s 35ms/step - loss: 0.1430 - accuracy: 0.9476\n",
            "Epoch 17/20\n",
            "1875/1875 [==============================] - 66s 35ms/step - loss: 0.1385 - accuracy: 0.9476\n",
            "Epoch 18/20\n",
            "1875/1875 [==============================] - 66s 35ms/step - loss: 0.1319 - accuracy: 0.9516\n",
            "Epoch 19/20\n",
            "1875/1875 [==============================] - 66s 35ms/step - loss: 0.1296 - accuracy: 0.9524\n",
            "Epoch 20/20\n",
            "1875/1875 [==============================] - 66s 35ms/step - loss: 0.1208 - accuracy: 0.9550\n"
          ]
        },
        {
          "output_type": "execute_result",
          "data": {
            "text/plain": [
              "<keras.callbacks.History at 0x7fa8d7750bd0>"
            ]
          },
          "metadata": {},
          "execution_count": 54
        }
      ]
    }
  ]
}